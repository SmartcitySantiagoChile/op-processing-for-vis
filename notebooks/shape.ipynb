{
 "cells": [
  {
   "cell_type": "markdown",
   "source": [
    "# Procedimiento para verificar correctitud en generación de archivo yyyy-mm-dd.shape"
   ],
   "metadata": {
    "collapsed": false
   }
  },
  {
   "cell_type": "code",
   "execution_count": 71,
   "outputs": [],
   "source": [
    "import csv\n",
    "import os\n",
    "from collections import defaultdict\n",
    "\n",
    "import decouple\n",
    "import pandas as pd\n",
    "import plotly.express as px\n",
    "import utm\n",
    "\n",
    "from op_processing_for_vis.config import OUTPUT_PATH, TMP_PATH\n",
    "from op_processing_for_vis.utils import get_route_id_info\n",
    "\n",
    "config = decouple.AutoConfig(' ')"
   ],
   "metadata": {
    "collapsed": false
   }
  },
  {
   "cell_type": "code",
   "execution_count": 72,
   "outputs": [],
   "source": [
    "# load processed shape\n",
    "op_date = '2022-07-02'\n",
    "filename = '{}.shape'.format(op_date)\n",
    "shape_path = os.path.join(OUTPUT_PATH, op_date, filename)\n",
    "\n",
    "shape_dict = defaultdict(list)\n",
    "with open(shape_path, newline='', encoding='utf-8') as csvfile:\n",
    "    reader = csv.DictReader(csvfile, delimiter='|')\n",
    "    for row in reader:\n",
    "        latitude = float(row['Latitude'])\n",
    "        longitude = float(row['Longitude'])\n",
    "        is_starting_segment = int(row['IsSectionInit'])\n",
    "        shape_dict[row['Route']].append((longitude, latitude, is_starting_segment))"
   ],
   "metadata": {
    "collapsed": false
   }
  },
  {
   "cell_type": "code",
   "execution_count": null,
   "outputs": [],
   "source": [
    "# load original shape\n",
    "route_id_info = get_route_id_info(op_date)\n",
    "original_shape_dict = defaultdict(list)\n",
    "original_shape_path = os.path.join(TMP_PATH, '00Entrada', op_date, 'Rutas',\n",
    "                                   'ShapeRutas_{0}.csv'.format(op_date.replace('-', '')))\n",
    "with open(original_shape_path, newline='', encoding='utf-8-sig') as csvfile:\n",
    "    reader = csv.DictReader(csvfile, delimiter=';')\n",
    "    for row in reader:\n",
    "        route_id = row['ROUTE_NAME']\n",
    "        x = float(row['X-Coordinate'])\n",
    "        y = float(row['Y-Coordinate'])\n",
    "        latitude, longitude = utm.to_latlon(x, y, 19, 'H')\n",
    "        auth_route_code = route_id_info[route_id]['auth_route_code']\n",
    "        original_shape_dict[auth_route_code].append((longitude, latitude))"
   ],
   "metadata": {
    "collapsed": false,
    "pycharm": {
     "is_executing": true
    }
   }
  },
  {
   "cell_type": "code",
   "execution_count": null,
   "outputs": [],
   "source": [
    "def generate_shape_evaluation_map(shape_points, filename, original_shape=None, auto_open=False):\n",
    "    mapbox_access_token = config('MAPBOX_ACCESS_TOKEN')\n",
    "\n",
    "    # shape\n",
    "    df = pd.DataFrame(shape_points, columns=['lon', 'lat', 'is_starting_segment'])\n",
    "    fig = px.line_mapbox(df, lat='lat', lon='lon', color_discrete_sequence=['blue'],\n",
    "                         zoom=11, height=700, title=\"\")\n",
    "\n",
    "    # original shape\n",
    "    if original_shape is not None:\n",
    "        df5 = pd.DataFrame(original_shape, columns=['lon', 'lat'])\n",
    "        fig5 = px.line_mapbox(df5, lat='lat', lon='lon', color_discrete_sequence=['green'])\n",
    "\n",
    "    # all points\n",
    "    df2 = pd.DataFrame(shape_points, columns=['lon', 'lat', 'is_starting_segment'])\n",
    "    fig2 = px.scatter_mapbox(df2, lat='lat', lon='lon', hover_name='is_starting_segment',\n",
    "                             color_discrete_sequence=['yellow'], hover_data=['lon', 'lat', 'is_starting_segment'])\n",
    "\n",
    "    # end shape point\n",
    "    df3 = pd.DataFrame.from_records([shape_points[-1]], columns=['lon', 'lat', 'is_starting_segment'])\n",
    "    fig3 = px.scatter_mapbox(df3, lat='lat', lon='lon', color_discrete_sequence=['blue'], size=[40])\n",
    "\n",
    "    # starting segment points\n",
    "    df4 = pd.DataFrame(shape_points, columns=['lon', 'lat', 'is_starting_segment'])\n",
    "    df4 = df4[df['is_starting_segment'] == 1]\n",
    "    fig4 = px.scatter_mapbox(df4, lat='lat', lon='lon', hover_name='is_starting_segment',\n",
    "                             color_discrete_sequence=['red'], hover_data=['lon', 'lat', 'is_starting_segment'])\n",
    "\n",
    "    if original_shape is not None:\n",
    "        fig.add_trace(fig5.data[0])\n",
    "    fig.add_trace(fig2.data[0])\n",
    "    fig.add_trace(fig3.data[0])\n",
    "    fig.add_trace(fig4.data[0])\n",
    "\n",
    "    fig.update_layout(mapbox_style=\"dark\", mapbox_accesstoken=mapbox_access_token)\n",
    "    fig.update_layout(margin={\"r\": 0, \"t\": 0, \"l\": 0, \"b\": 0})\n",
    "    #fig.show()\n",
    "    fig.write_html(os.path.join(TMP_PATH, 'maps', '{0}.html'.format(filename)), auto_open=auto_open)"
   ],
   "metadata": {
    "collapsed": false,
    "pycharm": {
     "is_executing": true
    }
   }
  },
  {
   "cell_type": "code",
   "execution_count": null,
   "outputs": [],
   "source": [
    "# example\n",
    "auth_route_code = 'B01 00I'\n",
    "points = shape_dict[auth_route_code]\n",
    "original_points = original_shape_dict[auth_route_code]\n",
    "\n",
    "generate_shape_evaluation_map(points, auth_route_code, original_shape=None)"
   ],
   "metadata": {
    "collapsed": false,
    "pycharm": {
     "is_executing": true
    }
   }
  },
  {
   "cell_type": "code",
   "execution_count": null,
   "outputs": [],
   "source": [],
   "metadata": {
    "collapsed": false,
    "pycharm": {
     "is_executing": true
    }
   }
  }
 ],
 "metadata": {
  "kernelspec": {
   "display_name": "Python 3",
   "language": "python",
   "name": "python3"
  },
  "language_info": {
   "codemirror_mode": {
    "name": "ipython",
    "version": 2
   },
   "file_extension": ".py",
   "mimetype": "text/x-python",
   "name": "python",
   "nbconvert_exporter": "python",
   "pygments_lexer": "ipython2",
   "version": "2.7.6"
  }
 },
 "nbformat": 4,
 "nbformat_minor": 0
}
