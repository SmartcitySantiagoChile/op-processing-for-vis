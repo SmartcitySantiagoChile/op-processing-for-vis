{
 "cells": [
  {
   "cell_type": "markdown",
   "source": [
    "# Procedimiento para comparar la generación de puntos cada 500 metros"
   ],
   "metadata": {
    "collapsed": false
   }
  },
  {
   "cell_type": "code",
   "execution_count": 24,
   "outputs": [],
   "source": [
    "import csv\n",
    "import os\n",
    "from collections import defaultdict\n",
    "\n",
    "import decouple\n",
    "import pandas as pd\n",
    "import plotly.express as px\n",
    "\n",
    "from op_processing_for_vis.config import OUTPUT_PATH, TMP_PATH\n",
    "from op_processing_for_vis.utils import get_route_id_info\n",
    "\n",
    "config = decouple.AutoConfig(' ')"
   ],
   "metadata": {
    "collapsed": false
   }
  },
  {
   "cell_type": "code",
   "execution_count": 41,
   "outputs": [],
   "source": [
    "# load processed shape\n",
    "op_date = '2022-07-02'\n",
    "filename = '{}.shape'.format(op_date)\n",
    "shape_path = os.path.join(OUTPUT_PATH, op_date, filename)\n",
    "\n",
    "shape_dict = defaultdict(list)\n",
    "with open(shape_path, newline='', encoding='utf-8') as csvfile:\n",
    "    reader = csv.DictReader(csvfile, delimiter='|')\n",
    "    for row in reader:\n",
    "        latitude = float(row['Latitude'])\n",
    "        longitude = float(row['Longitude'])\n",
    "        is_starting_segment = int(row['IsSectionInit'])\n",
    "        shape_dict[row['Route']].append((longitude, latitude, is_starting_segment))"
   ],
   "metadata": {
    "collapsed": false
   }
  },
  {
   "cell_type": "code",
   "execution_count": 42,
   "outputs": [],
   "source": [
    "# load shape file processed by mauricio\n",
    "route_id_info = get_route_id_info(op_date)\n",
    "mauricio_shape_dict = defaultdict(list)\n",
    "mauricio_shape_path = os.path.join(TMP_PATH, 'mauricio_files', '{0}.shape'.format(op_date))\n",
    "with open(mauricio_shape_path, newline='', encoding='utf-8-sig') as csvfile:\n",
    "    reader = csv.DictReader(csvfile, delimiter='|')\n",
    "    for row in reader:\n",
    "        auth_route_code = row['Route']\n",
    "        longitude = float(row['Longitude'])\n",
    "        latitude = float(row['Latitude'])\n",
    "        is_starting_segment = int(row['IsSectionInit'])\n",
    "        if is_starting_segment == 1:\n",
    "            mauricio_shape_dict[auth_route_code].append((longitude, latitude))"
   ],
   "metadata": {
    "collapsed": false
   }
  },
  {
   "cell_type": "code",
   "execution_count": 51,
   "outputs": [],
   "source": [
    "def generate_shape_evaluation_map(my_points, mauricio_points, filename, auto_open=False):\n",
    "    mapbox_access_token = config('MAPBOX_ACCESS_TOKEN')\n",
    "\n",
    "    # my points\n",
    "    df = pd.DataFrame(my_points, columns=['lon', 'lat', 'is_starting_segment'])\n",
    "    df = df[df['is_starting_segment'] == 0]\n",
    "    fig = px.line_mapbox(df, lat='lat', lon='lon', color_discrete_sequence=['green'],\n",
    "                         zoom=11, height=700, title=\"\")\n",
    "\n",
    "    # mauricio points\n",
    "    df2 = pd.DataFrame(mauricio_points, columns=['lon', 'lat'])\n",
    "    fig2 = px.scatter_mapbox(df2, lat='lat', lon='lon',\n",
    "                             color_discrete_sequence=['yellow'], hover_data=['lon', 'lat'])\n",
    "\n",
    "    # my points\n",
    "    df3 = pd.DataFrame(my_points, columns=['lon', 'lat', 'is_starting_segment'])\n",
    "    df3 = df3[df3['is_starting_segment'] == 1]\n",
    "    fig3 = px.scatter_mapbox(df3, lat='lat', lon='lon',\n",
    "                             color_discrete_sequence=['blue'], hover_data=['lon', 'lat'])\n",
    "\n",
    "    fig.add_trace(fig2.data[0])\n",
    "    #fig.add_trace(fig3.data[0])\n",
    "\n",
    "    fig.update_layout(mapbox_style=\"dark\", mapbox_accesstoken=mapbox_access_token)\n",
    "    fig.update_layout(margin={\"r\": 0, \"t\": 0, \"l\": 0, \"b\": 0})\n",
    "    #fig.show()\n",
    "    fig.write_html(os.path.join(TMP_PATH, 'comparacion', '{0}.html'.format(filename)), auto_open=auto_open)"
   ],
   "metadata": {
    "collapsed": false
   }
  },
  {
   "cell_type": "code",
   "execution_count": 52,
   "outputs": [],
   "source": [
    "# example\n",
    "auth_route_code = 'B01 00I'\n",
    "my_points = shape_dict[auth_route_code]\n",
    "mauricio_points = mauricio_shape_dict[auth_route_code]\n",
    "\n",
    "generate_shape_evaluation_map(my_points, mauricio_points, auth_route_code)"
   ],
   "metadata": {
    "collapsed": false
   }
  },
  {
   "cell_type": "code",
   "execution_count": 53,
   "outputs": [
    {
     "name": "stdout",
     "output_type": "stream",
     "text": [
      "Felipe -> N° puntos cada 500 mts: 21\n",
      "Mauricio -> N° puntos cada 500 mts: 21\n"
     ]
    }
   ],
   "source": [
    "print('Felipe -> N° puntos cada 500 mts:', len([point for point in my_points if point[2] == 1]))\n",
    "print('Mauricio -> N° puntos cada 500 mts:', len(mauricio_points))"
   ],
   "metadata": {
    "collapsed": false
   }
  },
  {
   "cell_type": "code",
   "execution_count": 46,
   "outputs": [
    {
     "data": {
      "text/plain": "[(-70.620153, -33.400169, 1),\n (-70.620196, -33.400169, 0),\n (-70.620281, -33.40014, 0),\n (-70.620345, -33.400067, 0),\n (-70.620549, -33.400083, 0),\n (-70.621943, -33.400443, 0),\n (-70.623564, -33.400909, 0),\n (-70.624895, -33.400215, 0),\n (-70.625057, -33.400134, 1),\n (-70.626951, -33.399178, 0),\n (-70.627026, -33.399132, 0),\n (-70.627995, -33.398642, 0),\n (-70.62808, -33.398604, 0),\n (-70.627121, -33.397284, 1),\n (-70.626866, -33.396934, 0),\n (-70.626734, -33.396737, 0),\n (-70.62669, -33.396693, 0),\n (-70.626839, -33.396628, 0),\n (-70.627191, -33.396452, 0),\n (-70.629736, -33.395147, 0),\n (-70.630151, -33.394943, 0),\n (-70.630567, -33.394721, 0),\n (-70.630578, -33.394715, 1),\n (-70.631387, -33.394313, 0),\n (-70.632952, -33.39349, 0),\n (-70.63358, -33.393175, 0),\n (-70.634145, -33.392915, 0),\n (-70.635278, -33.392555, 1),\n (-70.635449, -33.392501, 0),\n (-70.637725, -33.39175, 0),\n (-70.638579, -33.391432, 0),\n (-70.6386, -33.391404, 0),\n (-70.638824, -33.391338, 0),\n (-70.638932, -33.391346, 0),\n (-70.639039, -33.391336, 0),\n (-70.639126, -33.39137, 0),\n (-70.639577, -33.391337, 0),\n (-70.64034, -33.391246, 1),\n (-70.642044, -33.391043, 0),\n (-70.642065, -33.390989, 0),\n (-70.64244, -33.39093, 0),\n (-70.642717, -33.390782, 0),\n (-70.642803, -33.390799, 0),\n (-70.643772, -33.390326, 0),\n (-70.644241, -33.390112, 0),\n (-70.644742, -33.389862, 0),\n (-70.645029, -33.389705, 0),\n (-70.64521, -33.389622, 1),\n (-70.645615, -33.389436, 0),\n (-70.646073, -33.389213, 0),\n (-70.647086, -33.388749, 0),\n (-70.648002, -33.388313, 0),\n (-70.64844, -33.388136, 0),\n (-70.648898, -33.387904, 0),\n (-70.649452, -33.387653, 0),\n (-70.649889, -33.387485, 0),\n (-70.649932, -33.387477, 1),\n (-70.650297, -33.387408, 0),\n (-70.650404, -33.387397, 0),\n (-70.651284, -33.387322, 0),\n (-70.652293, -33.387255, 0),\n (-70.653538, -33.387139, 0),\n (-70.654686, -33.387043, 0),\n (-70.655271, -33.386977, 1),\n (-70.656242, -33.386868, 0),\n (-70.656316, -33.386822, 0),\n (-70.657175, -33.386739, 0),\n (-70.657561, -33.386716, 0),\n (-70.657626, -33.386751, 0),\n (-70.660085, -33.386583, 0),\n (-70.660589, -33.386541, 1),\n (-70.660729, -33.386529, 0),\n (-70.662855, -33.386401, 0),\n (-70.663628, -33.386346, 0),\n (-70.663853, -33.386289, 0),\n (-70.664078, -33.386268, 0),\n (-70.664154, -33.386276, 0),\n (-70.664841, -33.386248, 0),\n (-70.665228, -33.386261, 0),\n (-70.665283, -33.386288, 0),\n (-70.665702, -33.386291, 0),\n (-70.665932, -33.386288, 1),\n (-70.66654, -33.38628, 0),\n (-70.666593, -33.386243, 0),\n (-70.666894, -33.386239, 0),\n (-70.667475, -33.38624, 0),\n (-70.667518, -33.386276, 0),\n (-70.668572, -33.386261, 0),\n (-70.669045, -33.386264, 0),\n (-70.669173, -33.386226, 0),\n (-70.669624, -33.386229, 0),\n (-70.669701, -33.386282, 0),\n (-70.669991, -33.385169, 0),\n (-70.670028, -33.385018, 1),\n (-70.6703, -33.383902, 0),\n (-70.671972, -33.384168, 0),\n (-70.67387, -33.384486, 0),\n (-70.673988, -33.384484, 0),\n (-70.674127, -33.384464, 0),\n (-70.674248, -33.384462, 1),\n (-70.674267, -33.384462, 0),\n (-70.674664, -33.38443, 0),\n (-70.67475, -33.384429, 0),\n (-70.676639, -33.384268, 0),\n (-70.676864, -33.384211, 0),\n (-70.67695, -33.384246, 0),\n (-70.677251, -33.384223, 0),\n (-70.67739, -33.384222, 0),\n (-70.677766, -33.384198, 0),\n (-70.677949, -33.384223, 0),\n (-70.6781, -33.384221, 0),\n (-70.678315, -33.384236, 0),\n (-70.678865, -33.384319, 0),\n (-70.679081, -33.38437, 0),\n (-70.679384, -33.384456, 0),\n (-70.679533, -33.38452, 1),\n (-70.679752, -33.384613, 0),\n (-70.680078, -33.38478, 0),\n (-70.680176, -33.384842, 0),\n (-70.679936, -33.385251, 0),\n (-70.679466, -33.385961, 0),\n (-70.679726, -33.386066, 0),\n (-70.679749, -33.38612, 0),\n (-70.680821, -33.386529, 0),\n (-70.682266, -33.387062, 1),\n (-70.683625, -33.387564, 0),\n (-70.684968, -33.388051, 0),\n (-70.686216, -33.388665, 0),\n (-70.686813, -33.388973, 0),\n (-70.687079, -33.389045, 1),\n (-70.687191, -33.389076, 0),\n (-70.687829, -33.389266, 0),\n (-70.688468, -33.389491, 0),\n (-70.68863, -33.389534, 0),\n (-70.688705, -33.389533, 0),\n (-70.689343, -33.389732, 0),\n (-70.689409, -33.389785, 0),\n (-70.689852, -33.389923, 0),\n (-70.689316, -33.391076, 0),\n (-70.689469, -33.391236, 0),\n (-70.689535, -33.391326, 0),\n (-70.689538, -33.39147, 0),\n (-70.689551, -33.391551, 0),\n (-70.689596, -33.391676, 0),\n (-70.689622, -33.391779, 1),\n (-70.689631, -33.391811, 0),\n (-70.689823, -33.392305, 0),\n (-70.689846, -33.392385, 0),\n (-70.689849, -33.392548, 0),\n (-70.690093, -33.392905, 0),\n (-70.690323, -33.393109, 0),\n (-70.691856, -33.394008, 0),\n (-70.692018, -33.394078, 0),\n (-70.692148, -33.394122, 0),\n (-70.692256, -33.394147, 0),\n (-70.692814, -33.394086, 0),\n (-70.693541, -33.39403, 1),\n (-70.694113, -33.393987, 0),\n (-70.695723, -33.393847, 0),\n (-70.697741, -33.393685, 0),\n (-70.69889, -33.393583, 1),\n (-70.700886, -33.393407, 0),\n (-70.699616, -33.390791, 1),\n (-70.698803, -33.389116, 0),\n (-70.697907, -33.387297, 0),\n (-70.697582, -33.386617, 1),\n (-70.697145, -33.385703, 0),\n (-70.697101, -33.385631, 0)]"
     },
     "execution_count": 46,
     "metadata": {},
     "output_type": "execute_result"
    }
   ],
   "source": [
    "my_points"
   ],
   "metadata": {
    "collapsed": false
   }
  },
  {
   "cell_type": "code",
   "execution_count": 33,
   "outputs": [
    {
     "data": {
      "text/plain": "[(-70.620153, -33.400169),\n (-70.62808, -33.398604),\n (-70.62669, -33.396693),\n (-70.632952, -33.39349),\n (-70.638824, -33.391338),\n (-70.64244, -33.39093),\n (-70.649889, -33.387485),\n (-70.655425, -33.38701),\n (-70.660772, -33.386552),\n (-70.664078, -33.386268),\n (-70.669701, -33.386282),\n (-70.6703, -33.383902),\n (-70.677766, -33.384199),\n (-70.680176, -33.384842),\n (-70.684968, -33.388051),\n (-70.689852, -33.389923),\n (-70.689849, -33.392548),\n (-70.699277, -33.393539),\n (-70.700886, -33.393407),\n (-70.697433, -33.386314),\n (-70.697101, -33.385631)]"
     },
     "execution_count": 33,
     "metadata": {},
     "output_type": "execute_result"
    }
   ],
   "source": [
    "mauricio_points"
   ],
   "metadata": {
    "collapsed": false
   }
  },
  {
   "cell_type": "code",
   "execution_count": null,
   "outputs": [],
   "source": [
    "preguntar\n",
    "a\n",
    "mauricio\n",
    "pq\n",
    "no\n",
    "calzan\n",
    "calza\n",
    "solo\n",
    "el\n",
    "punto\n",
    "inicial\n",
    "están\n",
    "raras\n",
    "sus\n",
    "asignaciones\n",
    "pq\n",
    "no\n",
    "pareciera\n",
    "que\n",
    "todos\n",
    "tuvieran\n",
    "500\n",
    "metros\n",
    "el también marca el punto final ¿por qué?"
   ],
   "metadata": {
    "collapsed": false
   }
  }
 ],
 "metadata": {
  "kernelspec": {
   "display_name": "Python 3",
   "language": "python",
   "name": "python3"
  },
  "language_info": {
   "codemirror_mode": {
    "name": "ipython",
    "version": 2
   },
   "file_extension": ".py",
   "mimetype": "text/x-python",
   "name": "python",
   "nbconvert_exporter": "python",
   "pygments_lexer": "ipython2",
   "version": "2.7.6"
  }
 },
 "nbformat": 4,
 "nbformat_minor": 0
}
